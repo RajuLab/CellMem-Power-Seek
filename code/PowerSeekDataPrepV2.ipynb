{
 "cells": [
  {
   "cell_type": "markdown",
   "metadata": {},
   "source": [
    "## scRNA data processing: Part 02\n",
    "Here we process data from [G. Harmange et al., 2023](https://www.nature.com/articles/s41467-023-41811-8) on WM989 cell line and [A. Janesick et al., 2023](https://www.nature.com/articles/s41467-023-43458-x) on human breast cancer tissue. First, we have done some basic processing based on number of unique genes, number of mitochondrial genes, etc. The code for data processing- prt 01 can be found here. "
   ]
  },
  {
   "cell_type": "code",
   "execution_count": 1,
   "metadata": {},
   "outputs": [],
   "source": [
    "# call libraries\n",
    "import numpy as np\n",
    "import pandas as pd\n",
    "import os"
   ]
  },
  {
   "cell_type": "code",
   "execution_count": 2,
   "metadata": {},
   "outputs": [],
   "source": [
    "PATH = os.path.expanduser('~') + '/Dropbox/suvranil/cellmem'"
   ]
  },
  {
   "cell_type": "markdown",
   "metadata": {},
   "source": [
    "#### Import data after processing - part 01\n",
    "In WM989 cell line, there are 7590 cells and 33538 unique raw UMIs in replicate 1. In replicate 02, there are 4941 cells and 33538 unique raw UMIs. In case of human breast tissue data, there are 7967 cells and 36600 unique raw UMIs. "
   ]
  },
  {
   "cell_type": "code",
   "execution_count": 3,
   "metadata": {},
   "outputs": [],
   "source": [
    "#importing raw count data after processing part 01\n",
    "df = pd.read_csv(PATH + '/data/MemSeqData/full_count_mat_batch_1.csv')\n",
    "# df = pd.read_csv(PATH + '/data/MemSeqData/full_count_mat_batch_1_WM983.csv')\n",
    "#df = pd.read_csv(PATH + '/data/MemSeqData/full_count_mat_batch_1.csv')\n",
    "#df = pd.read_csv(PATH + '/data/BreastTissueData/full_count_mat_breast.csv')\n",
    "\n",
    "#specifying column name\n",
    "df = df.rename(columns={'Unnamed: 0': 'gene'})\n",
    "df.set_index('gene', inplace = True)"
   ]
  },
  {
   "cell_type": "markdown",
   "metadata": {},
   "source": [
    "#### Sparsity reduction: Part 01\n",
    "We remove genes which have not been expressed in any cells."
   ]
  },
  {
   "cell_type": "code",
   "execution_count": 4,
   "metadata": {},
   "outputs": [],
   "source": [
    "# number of nonzero entries in each gene (row).\n",
    "count_box = df.apply(lambda row: np.count_nonzero(row), axis=1)\n",
    "df = df[np.array(count_box) > 0]"
   ]
  },
  {
   "cell_type": "markdown",
   "metadata": {},
   "source": [
    "#### Normalization of gene expression by total raw counts of each cell\n",
    "We calculate the total raw counts of each cell, and then divide the raw UMI count for each gene in a cell with the total count of that cell. So, instead of raw UMI count of genes in a cell, we work with relative UMI of genes. "
   ]
  },
  {
   "cell_type": "code",
   "execution_count": 5,
   "metadata": {},
   "outputs": [],
   "source": [
    "# total raw UMI counts of each cell\n",
    "col_sum = df.sum(axis = 0)\n",
    "col_sum = col_sum.astype(np.float64)\n",
    "#normalization and changing datatype\n",
    "df = df.divide(col_sum, axis = 1).astype('float32')"
   ]
  },
  {
   "cell_type": "markdown",
   "metadata": {},
   "source": [
    "#### Sparsity reduction: Part 02\n",
    "We remove genes which have been expressed in less than 200 cells. "
   ]
  },
  {
   "cell_type": "code",
   "execution_count": 6,
   "metadata": {},
   "outputs": [],
   "source": [
    "# number of nonzero entries in each gene (row).\n",
    "count_box = df.apply(lambda row: np.count_nonzero(row), axis=1)\n",
    "# selecting genes with greater than 200 nonzero entries.\n",
    "df = df[np.array(count_box) > 200]\n",
    "# plt.hist(count_box)"
   ]
  },
  {
   "cell_type": "markdown",
   "metadata": {},
   "source": [
    "#### Outlier Detection\n",
    "There are some high jumps in the expression of some genes. We systemically try to identify these kinds of genes and remove them from downstream analysis. "
   ]
  },
  {
   "cell_type": "code",
   "execution_count": 7,
   "metadata": {},
   "outputs": [],
   "source": [
    "def Outlier_detection(gene_exp, lower_boundary, upper_boundary):\n",
    "    nonzero_gene_exp = gene_exp[gene_exp > 0]\n",
    "    log_nonzero_gene_exp = np.log(nonzero_gene_exp)\n",
    "    # threshold for (lower_boundary) percentile\n",
    "    Q1 = np.percentile(log_nonzero_gene_exp, lower_boundary)\n",
    "    # threshold for (upper_boundary) percentile\n",
    "    Q5 = np.percentile(log_nonzero_gene_exp, upper_boundary)\n",
    "    #Interquartile range\n",
    "    IQR = Q5 - Q1\n",
    "    #position of lower and upper whiskers\n",
    "    lw = Q1 - 1.5 * IQR\n",
    "    uw = Q5 + 1.5 * IQR\n",
    "    #datapoints below lower whiskers and above upper whiskers\n",
    "    outliers = log_nonzero_gene_exp[(log_nonzero_gene_exp < lw) | (log_nonzero_gene_exp > uw)]\n",
    "    return len(outliers)"
   ]
  },
  {
   "cell_type": "code",
   "execution_count": 8,
   "metadata": {},
   "outputs": [],
   "source": [
    "outlier_arr = np.ones(len(df.index))\n",
    "#store number of outliers for each gene\n",
    "for i in range (len(df.index)):\n",
    "    outlier_arr[i] = Outlier_detection(df.iloc[i].to_numpy(), 9, 91)\n",
    "#selecting genes with 0 outlier\n",
    "df = df[outlier_arr == 0]"
   ]
  },
  {
   "cell_type": "markdown",
   "metadata": {},
   "source": [
    "#### Selecting top variable genes\n",
    "We select top variable genes by comparing coefficient of variation of each genes."
   ]
  },
  {
   "cell_type": "code",
   "execution_count": 9,
   "metadata": {},
   "outputs": [],
   "source": [
    "# caclculating coefficient of variation\n",
    "cv = df.std(axis = 1) / df.mean(axis = 1)  \n",
    "# sorting genes in the descending order of CV\n",
    "df = df.iloc[np.argsort(-cv)]"
   ]
  },
  {
   "cell_type": "code",
   "execution_count": 10,
   "metadata": {},
   "outputs": [],
   "source": [
    "# save dataframe\n",
    "df_output = df[: 5000]\n",
    "# df_output.to_csv(PATH + '/data/MemSeqData' + \n",
    "#                  '/HighVariable5000CountMatrix_WM983.csv', \n",
    "#                  index=True)"
   ]
  }
 ],
 "metadata": {
  "kernelspec": {
   "display_name": "py310",
   "language": "python",
   "name": "python3"
  },
  "language_info": {
   "codemirror_mode": {
    "name": "ipython",
    "version": 3
   },
   "file_extension": ".py",
   "mimetype": "text/x-python",
   "name": "python",
   "nbconvert_exporter": "python",
   "pygments_lexer": "ipython3",
   "version": "3.10.18"
  }
 },
 "nbformat": 4,
 "nbformat_minor": 2
}
