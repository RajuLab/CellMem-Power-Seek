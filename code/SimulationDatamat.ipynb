{
 "cells": [
  {
   "attachments": {},
   "cell_type": "markdown",
   "metadata": {},
   "source": [
    "### Simulation of cell-by-gene count matrix\n",
    "Here, we generate a cell-by-gene count matrix of order (#cells, #genes) for some given parameters. "
   ]
  },
  {
   "cell_type": "code",
   "execution_count": 1,
   "metadata": {},
   "outputs": [],
   "source": [
    "#call necessary libraries\n",
    "import numpy as np\n",
    "import igraph as ig\n",
    "from functionsV2 import * \n",
    "import os\n",
    "import matplotlib.pyplot as plt"
   ]
  },
  {
   "cell_type": "code",
   "execution_count": 2,
   "metadata": {},
   "outputs": [],
   "source": [
    "PATH = os.path.expanduser('~') + '/Dropbox/suvranil/cellmem'"
   ]
  },
  {
   "attachments": {},
   "cell_type": "markdown",
   "metadata": {},
   "source": [
    "#### Parameters\n",
    "\n",
    "We write all necessary parameters for simulation."
   ]
  },
  {
   "cell_type": "code",
   "execution_count": 3,
   "metadata": {},
   "outputs": [
    {
     "name": "stdout",
     "output_type": "stream",
     "text": [
      "Mean of Mus:  1.03\n"
     ]
    }
   ],
   "source": [
    "#gene network\n",
    "ng = int(1024)    # number of genes in gene network\n",
    "alpha = 2.0       # alpha is shape parameter of Gamma distribution\n",
    "beta = 2.0        # bete is inverse scale parameter of Gamma dribution\n",
    "muall = np.loadtxt(PATH +'/data' + '/gene_16384.txt')\n",
    "mu = muall[: ng]\n",
    "print('Mean of Mus: ', np.round(-np.mean(mu), 2))\n",
    "\n",
    "\n",
    "#gene dynamics in root cell\n",
    "t_s = 1000.0    # total time to find a stationary state\n",
    "dt_s = 0.01     # time-step size\n",
    "steps = int(np.round(t_s / dt_s))\n",
    "amp = 0.1       # noise amplitude\n",
    "\n",
    "#parameters for cell lineage \n",
    "trial = 2       # number of sample data matrices\n",
    "tc = 0.5        # cell division time\n",
    "p =  2          # step size = 10**-p\n",
    "b = 12          # number of branch\n",
    "nc = 2**(b - 1)\n",
    "#comment : If we run code for b = 8, \n",
    "#...we will get max 2**7 cell in the final branch. "
   ]
  },
  {
   "attachments": {},
   "cell_type": "markdown",
   "metadata": {},
   "source": [
    "#### Simulation of cell lineage\n",
    "First, we make sure every cells reach to stationary state. Then cells start dividing."
   ]
  },
  {
   "cell_type": "code",
   "execution_count": 4,
   "metadata": {},
   "outputs": [
    {
     "name": "stdout",
     "output_type": "stream",
     "text": [
      "0\n",
      "1\n"
     ]
    }
   ],
   "source": [
    "data_mat_list = []\n",
    "for k in range(trial): \n",
    "    #initialization of root cell\n",
    "    g_root = ig.Graph()\n",
    "    g_root.add_vertices(int(1))\n",
    "    g_root.vs[0]['gene'] = []\n",
    "    gene_array = np.random.random(ng) # initial state of genes in the root cell\n",
    "\n",
    "    #comment: to make sure all gene expressions x(t) > 0\n",
    "    con_arr = np.ones(ng, dtype = np.float32)\n",
    "    \n",
    "    #steady state gene dynamics\n",
    "    for i in range (0, steps, 1):\n",
    "        # Euler-Maruyama method\n",
    "        du = mu * gene_array * dt_s + con_arr * dt_s + amp * (dt_s**0.5) * np.random.normal(0.0,1.0, ng)\n",
    "        gene_array += du\n",
    "        g_root.vs[0]['gene'].append(np.copy(gene_array))\n",
    "\n",
    "\n",
    "    #gene expression dynamis has reached near to steady state.\n",
    "    root = np.copy(g_root.vs[0]['gene'][-1])\n",
    "    #cell division starts.\n",
    "    graph = cell_lineage_model(ng, amp, mu, b, root, tc, p)\n",
    "\n",
    "    #taking snapshot\n",
    "    snap = len(graph.vs[0]['time'])\n",
    "    rows = 2**(b - 1)\n",
    "    cols = ng\n",
    "    add = 2**(b - 1) - 1    # add numbers to get 'right' cells\n",
    "    #single snapshot data matrix (unprocessed / non-updated)\n",
    "    data_mat = np.zeros((rows, cols), dtype = np.float32)\n",
    "    for i in range (0, rows, 1):\n",
    "        data_mat[i][0: ] = graph.vs[i + add]['gene'][snap - 2][0: ]\n",
    "    data_mat_list.append(data_mat)\n",
    "    print(k) #keeping track of trials\n",
    "    del  graph, g_root"
   ]
  },
  {
   "cell_type": "code",
   "execution_count": 5,
   "metadata": {},
   "outputs": [
    {
     "name": "stdout",
     "output_type": "stream",
     "text": [
      "Shape of ensemble of data mat:  (2, 2048, 1024)\n"
     ]
    }
   ],
   "source": [
    "data = np.array(data_mat_list) #data matrices\n",
    "print('Shape of ensemble of data mat: ', data.shape)"
   ]
  },
  {
   "attachments": {},
   "cell_type": "markdown",
   "metadata": {},
   "source": [
    "#### Store cell-by-gene data matrix"
   ]
  },
  {
   "cell_type": "code",
   "execution_count": 6,
   "metadata": {},
   "outputs": [],
   "source": [
    "# np.save(PATH \n",
    "#         + '/data/20241212/'\n",
    "#         + 'gene_{}_cell_{}_divtime_{}_amp_{}_trial_{}.npy'\n",
    "#         .format(ng, nc, tc, amp, trial), data, allow_pickle = True)"
   ]
  },
  {
   "cell_type": "markdown",
   "metadata": {},
   "source": [
    "We have got our sample data matrices. <br>\n",
    "Let's check eigenspectra of cell covariance matrix once. \n",
    "\n",
    "#### Eigenspectra of cell covariance matrix"
   ]
  },
  {
   "cell_type": "code",
   "execution_count": 7,
   "metadata": {},
   "outputs": [
    {
     "data": {
      "text/plain": [
       "<matplotlib.collections.PathCollection at 0x7a42a56fbbb0>"
      ]
     },
     "execution_count": 7,
     "metadata": {},
     "output_type": "execute_result"
    },
    {
     "data": {
      "image/png": "[encoded data removed]",
      "text/plain": [
       "<Figure size 640x480 with 1 Axes>"
      ]
     },
     "metadata": {},
     "output_type": "display_data"
    }
   ],
   "source": [
    "#single timepoint scRNA-seq data matrix\n",
    "z = data[0]\n",
    "#updated data matrix\n",
    "X_S = (z - np.mean(z, axis = 0))/ np.std(z, axis = 0)\n",
    "cv = np.matmul(X_S, X_S.T) / ng\n",
    "ev = np.linalg.eigvalsh(cv)[::-1]\n",
    "rank = np.linspace(1, nc, nc)\n",
    "plt.xscale('log')\n",
    "plt.yscale('log')\n",
    "plt.ylim(0.1, 20)\n",
    "plt.xlim(0.9, ng + 200)\n",
    "plt.xlabel('Rank')\n",
    "plt.ylabel('$\\lambda$')\n",
    "plt.scatter(rank, ev, color = '#44aa99')"
   ]
  },
  {
   "attachments": {},
   "cell_type": "markdown",
   "metadata": {},
   "source": [
    "Cheers!"
   ]
  }
 ],
 "metadata": {
  "kernelspec": {
   "display_name": "cellmem",
   "language": "python",
   "name": "python3"
  },
  "language_info": {
   "codemirror_mode": {
    "name": "ipython",
    "version": 3
   },
   "file_extension": ".py",
   "mimetype": "text/x-python",
   "name": "python",
   "nbconvert_exporter": "python",
   "pygments_lexer": "ipython3",
   "version": "3.10.14"
  },
  "orig_nbformat": 4
 },
 "nbformat": 4,
 "nbformat_minor": 2
}
